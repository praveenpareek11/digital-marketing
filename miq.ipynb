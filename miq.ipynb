{
  "nbformat": 4,
  "nbformat_minor": 0,
  "metadata": {
    "colab": {
      "name": "miq.ipynb",
      "provenance": [],
      "collapsed_sections": [],
      "mount_file_id": "11p0sVWPs5d8atkXfe5UB_iQ0uO1cy4rL",
      "authorship_tag": "ABX9TyPQxvBEhCNlKWB7MAlEd9/1",
      "include_colab_link": true
    },
    "kernelspec": {
      "name": "python3",
      "display_name": "Python 3"
    },
    "accelerator": "TPU"
  },
  "cells": [
    {
      "cell_type": "markdown",
      "metadata": {
        "id": "view-in-github",
        "colab_type": "text"
      },
      "source": [
        "<a href=\"https://colab.research.google.com/github/praveenpareek11/digital-marketing/blob/master/miq.ipynb\" target=\"_parent\"><img src=\"https://colab.research.google.com/assets/colab-badge.svg\" alt=\"Open In Colab\"/></a>"
      ]
    },
    {
      "cell_type": "markdown",
      "metadata": {
        "id": "u-gGp4Piz8rm",
        "colab_type": "text"
      },
      "source": [
        "/content/drive/My Drive/Colab Notebooks/data/MiQ/Problem2_FInalConversions\n",
        "\n",
        "/content/drive/My Drive/Colab Notebooks/data/MiQ/Problem2_Site_BrowingBehavior"
      ]
    },
    {
      "cell_type": "code",
      "metadata": {
        "id": "tLWzEGjKym7S",
        "colab_type": "code",
        "colab": {}
      },
      "source": [
        "import pandas as pd"
      ],
      "execution_count": 0,
      "outputs": []
    },
    {
      "cell_type": "code",
      "metadata": {
        "id": "UHRexhHc0gDx",
        "colab_type": "code",
        "colab": {}
      },
      "source": [
        "final_df = pd.read_table('/content/drive/My Drive/Colab Notebooks/data/MiQ/Problem2_FInalConversions', delim_whitespace=True, names=('Date', 'Time', 'UserID', 'ProductID', 'Amount'))"
      ],
      "execution_count": 0,
      "outputs": []
    },
    {
      "cell_type": "code",
      "metadata": {
        "id": "GnV-cY481ftJ",
        "colab_type": "code",
        "colab": {
          "base_uri": "https://localhost:8080/",
          "height": 204
        },
        "outputId": "d05ae1a5-3087-458f-df01-da39d7a185a2"
      },
      "source": [
        "final_df.head()"
      ],
      "execution_count": 3,
      "outputs": [
        {
          "output_type": "execute_result",
          "data": {
            "text/html": [
              "<div>\n",
              "<style scoped>\n",
              "    .dataframe tbody tr th:only-of-type {\n",
              "        vertical-align: middle;\n",
              "    }\n",
              "\n",
              "    .dataframe tbody tr th {\n",
              "        vertical-align: top;\n",
              "    }\n",
              "\n",
              "    .dataframe thead th {\n",
              "        text-align: right;\n",
              "    }\n",
              "</style>\n",
              "<table border=\"1\" class=\"dataframe\">\n",
              "  <thead>\n",
              "    <tr style=\"text-align: right;\">\n",
              "      <th></th>\n",
              "      <th>Date</th>\n",
              "      <th>Time</th>\n",
              "      <th>UserID</th>\n",
              "      <th>ProductID</th>\n",
              "      <th>Amount</th>\n",
              "    </tr>\n",
              "  </thead>\n",
              "  <tbody>\n",
              "    <tr>\n",
              "      <th>0</th>\n",
              "      <td>2017-07-26</td>\n",
              "      <td>00:00:10.465</td>\n",
              "      <td>0</td>\n",
              "      <td>A293532</td>\n",
              "      <td>52.14</td>\n",
              "    </tr>\n",
              "    <tr>\n",
              "      <th>1</th>\n",
              "      <td>2017-07-26</td>\n",
              "      <td>00:00:12.301</td>\n",
              "      <td>0</td>\n",
              "      <td>H209597</td>\n",
              "      <td>31.50</td>\n",
              "    </tr>\n",
              "    <tr>\n",
              "      <th>2</th>\n",
              "      <td>2017-07-26</td>\n",
              "      <td>00:00:12.388</td>\n",
              "      <td>0</td>\n",
              "      <td>H211370</td>\n",
              "      <td>30.48</td>\n",
              "    </tr>\n",
              "    <tr>\n",
              "      <th>3</th>\n",
              "      <td>2017-07-26</td>\n",
              "      <td>00:00:14.389</td>\n",
              "      <td>0</td>\n",
              "      <td>A282331</td>\n",
              "      <td>51.00</td>\n",
              "    </tr>\n",
              "    <tr>\n",
              "      <th>4</th>\n",
              "      <td>2017-07-26</td>\n",
              "      <td>00:00:16.837</td>\n",
              "      <td>0</td>\n",
              "      <td>H211410</td>\n",
              "      <td>16.74</td>\n",
              "    </tr>\n",
              "  </tbody>\n",
              "</table>\n",
              "</div>"
            ],
            "text/plain": [
              "         Date          Time  UserID ProductID  Amount\n",
              "0  2017-07-26  00:00:10.465       0   A293532   52.14\n",
              "1  2017-07-26  00:00:12.301       0   H209597   31.50\n",
              "2  2017-07-26  00:00:12.388       0   H211370   30.48\n",
              "3  2017-07-26  00:00:14.389       0   A282331   51.00\n",
              "4  2017-07-26  00:00:16.837       0   H211410   16.74"
            ]
          },
          "metadata": {
            "tags": []
          },
          "execution_count": 3
        }
      ]
    },
    {
      "cell_type": "code",
      "metadata": {
        "id": "TmZtVu011qcl",
        "colab_type": "code",
        "colab": {
          "base_uri": "https://localhost:8080/",
          "height": 187
        },
        "outputId": "30299e20-cdc7-40b5-bbcd-db91d8d2ae9e"
      },
      "source": [
        "final_df.info()"
      ],
      "execution_count": 4,
      "outputs": [
        {
          "output_type": "stream",
          "text": [
            "<class 'pandas.core.frame.DataFrame'>\n",
            "RangeIndex: 79795 entries, 0 to 79794\n",
            "Data columns (total 5 columns):\n",
            "Date         79795 non-null object\n",
            "Time         79795 non-null object\n",
            "UserID       79795 non-null int64\n",
            "ProductID    79795 non-null object\n",
            "Amount       79795 non-null float64\n",
            "dtypes: float64(1), int64(1), object(3)\n",
            "memory usage: 3.0+ MB\n"
          ],
          "name": "stdout"
        }
      ]
    },
    {
      "cell_type": "code",
      "metadata": {
        "id": "Z0e84NkW1vKE",
        "colab_type": "code",
        "colab": {
          "base_uri": "https://localhost:8080/",
          "height": 34
        },
        "outputId": "df11ac9d-af8e-401f-b110-2cbe07137bee"
      },
      "source": [
        "final_df['Date'].unique()"
      ],
      "execution_count": 5,
      "outputs": [
        {
          "output_type": "execute_result",
          "data": {
            "text/plain": [
              "array(['2017-07-26'], dtype=object)"
            ]
          },
          "metadata": {
            "tags": []
          },
          "execution_count": 5
        }
      ]
    },
    {
      "cell_type": "code",
      "metadata": {
        "id": "yNZfGQjF1-uK",
        "colab_type": "code",
        "colab": {
          "base_uri": "https://localhost:8080/",
          "height": 204
        },
        "outputId": "635132e1-4dc9-4f0c-eae0-7ad85f441227"
      },
      "source": [
        "final_df['DateTime'] = final_df['Date'] + ' ' + final_df['Time']\n",
        "final_df.head()"
      ],
      "execution_count": 6,
      "outputs": [
        {
          "output_type": "execute_result",
          "data": {
            "text/html": [
              "<div>\n",
              "<style scoped>\n",
              "    .dataframe tbody tr th:only-of-type {\n",
              "        vertical-align: middle;\n",
              "    }\n",
              "\n",
              "    .dataframe tbody tr th {\n",
              "        vertical-align: top;\n",
              "    }\n",
              "\n",
              "    .dataframe thead th {\n",
              "        text-align: right;\n",
              "    }\n",
              "</style>\n",
              "<table border=\"1\" class=\"dataframe\">\n",
              "  <thead>\n",
              "    <tr style=\"text-align: right;\">\n",
              "      <th></th>\n",
              "      <th>Date</th>\n",
              "      <th>Time</th>\n",
              "      <th>UserID</th>\n",
              "      <th>ProductID</th>\n",
              "      <th>Amount</th>\n",
              "      <th>DateTime</th>\n",
              "    </tr>\n",
              "  </thead>\n",
              "  <tbody>\n",
              "    <tr>\n",
              "      <th>0</th>\n",
              "      <td>2017-07-26</td>\n",
              "      <td>00:00:10.465</td>\n",
              "      <td>0</td>\n",
              "      <td>A293532</td>\n",
              "      <td>52.14</td>\n",
              "      <td>2017-07-26 00:00:10.465</td>\n",
              "    </tr>\n",
              "    <tr>\n",
              "      <th>1</th>\n",
              "      <td>2017-07-26</td>\n",
              "      <td>00:00:12.301</td>\n",
              "      <td>0</td>\n",
              "      <td>H209597</td>\n",
              "      <td>31.50</td>\n",
              "      <td>2017-07-26 00:00:12.301</td>\n",
              "    </tr>\n",
              "    <tr>\n",
              "      <th>2</th>\n",
              "      <td>2017-07-26</td>\n",
              "      <td>00:00:12.388</td>\n",
              "      <td>0</td>\n",
              "      <td>H211370</td>\n",
              "      <td>30.48</td>\n",
              "      <td>2017-07-26 00:00:12.388</td>\n",
              "    </tr>\n",
              "    <tr>\n",
              "      <th>3</th>\n",
              "      <td>2017-07-26</td>\n",
              "      <td>00:00:14.389</td>\n",
              "      <td>0</td>\n",
              "      <td>A282331</td>\n",
              "      <td>51.00</td>\n",
              "      <td>2017-07-26 00:00:14.389</td>\n",
              "    </tr>\n",
              "    <tr>\n",
              "      <th>4</th>\n",
              "      <td>2017-07-26</td>\n",
              "      <td>00:00:16.837</td>\n",
              "      <td>0</td>\n",
              "      <td>H211410</td>\n",
              "      <td>16.74</td>\n",
              "      <td>2017-07-26 00:00:16.837</td>\n",
              "    </tr>\n",
              "  </tbody>\n",
              "</table>\n",
              "</div>"
            ],
            "text/plain": [
              "         Date          Time  UserID ProductID  Amount                 DateTime\n",
              "0  2017-07-26  00:00:10.465       0   A293532   52.14  2017-07-26 00:00:10.465\n",
              "1  2017-07-26  00:00:12.301       0   H209597   31.50  2017-07-26 00:00:12.301\n",
              "2  2017-07-26  00:00:12.388       0   H211370   30.48  2017-07-26 00:00:12.388\n",
              "3  2017-07-26  00:00:14.389       0   A282331   51.00  2017-07-26 00:00:14.389\n",
              "4  2017-07-26  00:00:16.837       0   H211410   16.74  2017-07-26 00:00:16.837"
            ]
          },
          "metadata": {
            "tags": []
          },
          "execution_count": 6
        }
      ]
    },
    {
      "cell_type": "code",
      "metadata": {
        "id": "znJS79Jg2SdR",
        "colab_type": "code",
        "colab": {}
      },
      "source": [
        "final_df = final_df.drop(columns=['Date', 'Time'])"
      ],
      "execution_count": 0,
      "outputs": []
    },
    {
      "cell_type": "code",
      "metadata": {
        "id": "GYOnwQbL2UVg",
        "colab_type": "code",
        "colab": {
          "base_uri": "https://localhost:8080/",
          "height": 204
        },
        "outputId": "dc186c4e-5cc7-4bfc-df2d-d82aa0403773"
      },
      "source": [
        "final_df.head()"
      ],
      "execution_count": 8,
      "outputs": [
        {
          "output_type": "execute_result",
          "data": {
            "text/html": [
              "<div>\n",
              "<style scoped>\n",
              "    .dataframe tbody tr th:only-of-type {\n",
              "        vertical-align: middle;\n",
              "    }\n",
              "\n",
              "    .dataframe tbody tr th {\n",
              "        vertical-align: top;\n",
              "    }\n",
              "\n",
              "    .dataframe thead th {\n",
              "        text-align: right;\n",
              "    }\n",
              "</style>\n",
              "<table border=\"1\" class=\"dataframe\">\n",
              "  <thead>\n",
              "    <tr style=\"text-align: right;\">\n",
              "      <th></th>\n",
              "      <th>UserID</th>\n",
              "      <th>ProductID</th>\n",
              "      <th>Amount</th>\n",
              "      <th>DateTime</th>\n",
              "    </tr>\n",
              "  </thead>\n",
              "  <tbody>\n",
              "    <tr>\n",
              "      <th>0</th>\n",
              "      <td>0</td>\n",
              "      <td>A293532</td>\n",
              "      <td>52.14</td>\n",
              "      <td>2017-07-26 00:00:10.465</td>\n",
              "    </tr>\n",
              "    <tr>\n",
              "      <th>1</th>\n",
              "      <td>0</td>\n",
              "      <td>H209597</td>\n",
              "      <td>31.50</td>\n",
              "      <td>2017-07-26 00:00:12.301</td>\n",
              "    </tr>\n",
              "    <tr>\n",
              "      <th>2</th>\n",
              "      <td>0</td>\n",
              "      <td>H211370</td>\n",
              "      <td>30.48</td>\n",
              "      <td>2017-07-26 00:00:12.388</td>\n",
              "    </tr>\n",
              "    <tr>\n",
              "      <th>3</th>\n",
              "      <td>0</td>\n",
              "      <td>A282331</td>\n",
              "      <td>51.00</td>\n",
              "      <td>2017-07-26 00:00:14.389</td>\n",
              "    </tr>\n",
              "    <tr>\n",
              "      <th>4</th>\n",
              "      <td>0</td>\n",
              "      <td>H211410</td>\n",
              "      <td>16.74</td>\n",
              "      <td>2017-07-26 00:00:16.837</td>\n",
              "    </tr>\n",
              "  </tbody>\n",
              "</table>\n",
              "</div>"
            ],
            "text/plain": [
              "   UserID ProductID  Amount                 DateTime\n",
              "0       0   A293532   52.14  2017-07-26 00:00:10.465\n",
              "1       0   H209597   31.50  2017-07-26 00:00:12.301\n",
              "2       0   H211370   30.48  2017-07-26 00:00:12.388\n",
              "3       0   A282331   51.00  2017-07-26 00:00:14.389\n",
              "4       0   H211410   16.74  2017-07-26 00:00:16.837"
            ]
          },
          "metadata": {
            "tags": []
          },
          "execution_count": 8
        }
      ]
    },
    {
      "cell_type": "code",
      "metadata": {
        "id": "_9aICwqR5Qop",
        "colab_type": "code",
        "colab": {
          "base_uri": "https://localhost:8080/",
          "height": 170
        },
        "outputId": "79308ad6-3c6d-4a7e-aae9-06ba90f2ba24"
      },
      "source": [
        "final_df.info()"
      ],
      "execution_count": 9,
      "outputs": [
        {
          "output_type": "stream",
          "text": [
            "<class 'pandas.core.frame.DataFrame'>\n",
            "RangeIndex: 79795 entries, 0 to 79794\n",
            "Data columns (total 4 columns):\n",
            "UserID       79795 non-null int64\n",
            "ProductID    79795 non-null object\n",
            "Amount       79795 non-null float64\n",
            "DateTime     79795 non-null object\n",
            "dtypes: float64(1), int64(1), object(2)\n",
            "memory usage: 2.4+ MB\n"
          ],
          "name": "stdout"
        }
      ]
    },
    {
      "cell_type": "code",
      "metadata": {
        "id": "HWxGAjCi5Vab",
        "colab_type": "code",
        "colab": {}
      },
      "source": [
        "final_df['DateTime'] = pd.to_datetime(final_df['DateTime'])"
      ],
      "execution_count": 0,
      "outputs": []
    },
    {
      "cell_type": "code",
      "metadata": {
        "id": "87aWWK705vlQ",
        "colab_type": "code",
        "colab": {
          "base_uri": "https://localhost:8080/",
          "height": 170
        },
        "outputId": "6d561f99-ae97-47c5-f36f-61a5e80a415d"
      },
      "source": [
        "final_df.info()"
      ],
      "execution_count": 11,
      "outputs": [
        {
          "output_type": "stream",
          "text": [
            "<class 'pandas.core.frame.DataFrame'>\n",
            "RangeIndex: 79795 entries, 0 to 79794\n",
            "Data columns (total 4 columns):\n",
            "UserID       79795 non-null int64\n",
            "ProductID    79795 non-null object\n",
            "Amount       79795 non-null float64\n",
            "DateTime     79795 non-null datetime64[ns]\n",
            "dtypes: datetime64[ns](1), float64(1), int64(1), object(1)\n",
            "memory usage: 2.4+ MB\n"
          ],
          "name": "stdout"
        }
      ]
    },
    {
      "cell_type": "code",
      "metadata": {
        "id": "a1VJzXpd5x-0",
        "colab_type": "code",
        "colab": {}
      },
      "source": [
        "final_df = final_df.set_index('DateTime')"
      ],
      "execution_count": 0,
      "outputs": []
    },
    {
      "cell_type": "code",
      "metadata": {
        "id": "HaXSCfm664NU",
        "colab_type": "code",
        "colab": {
          "base_uri": "https://localhost:8080/",
          "height": 153
        },
        "outputId": "17057028-63f0-47d3-f1db-b8566acc1dc9"
      },
      "source": [
        "final_df.info()"
      ],
      "execution_count": 13,
      "outputs": [
        {
          "output_type": "stream",
          "text": [
            "<class 'pandas.core.frame.DataFrame'>\n",
            "DatetimeIndex: 79795 entries, 2017-07-26 00:00:10.465000 to 2017-07-26 23:21:05.221000\n",
            "Data columns (total 3 columns):\n",
            "UserID       79795 non-null int64\n",
            "ProductID    79795 non-null object\n",
            "Amount       79795 non-null float64\n",
            "dtypes: float64(1), int64(1), object(1)\n",
            "memory usage: 2.4+ MB\n"
          ],
          "name": "stdout"
        }
      ]
    },
    {
      "cell_type": "code",
      "metadata": {
        "id": "TnBFo74U7JEH",
        "colab_type": "code",
        "colab": {
          "base_uri": "https://localhost:8080/",
          "height": 235
        },
        "outputId": "f246dd4f-4d9d-4b2f-e650-ba6c5b08a4c8"
      },
      "source": [
        "final_df.head()"
      ],
      "execution_count": 14,
      "outputs": [
        {
          "output_type": "execute_result",
          "data": {
            "text/html": [
              "<div>\n",
              "<style scoped>\n",
              "    .dataframe tbody tr th:only-of-type {\n",
              "        vertical-align: middle;\n",
              "    }\n",
              "\n",
              "    .dataframe tbody tr th {\n",
              "        vertical-align: top;\n",
              "    }\n",
              "\n",
              "    .dataframe thead th {\n",
              "        text-align: right;\n",
              "    }\n",
              "</style>\n",
              "<table border=\"1\" class=\"dataframe\">\n",
              "  <thead>\n",
              "    <tr style=\"text-align: right;\">\n",
              "      <th></th>\n",
              "      <th>UserID</th>\n",
              "      <th>ProductID</th>\n",
              "      <th>Amount</th>\n",
              "    </tr>\n",
              "    <tr>\n",
              "      <th>DateTime</th>\n",
              "      <th></th>\n",
              "      <th></th>\n",
              "      <th></th>\n",
              "    </tr>\n",
              "  </thead>\n",
              "  <tbody>\n",
              "    <tr>\n",
              "      <th>2017-07-26 00:00:10.465</th>\n",
              "      <td>0</td>\n",
              "      <td>A293532</td>\n",
              "      <td>52.14</td>\n",
              "    </tr>\n",
              "    <tr>\n",
              "      <th>2017-07-26 00:00:12.301</th>\n",
              "      <td>0</td>\n",
              "      <td>H209597</td>\n",
              "      <td>31.50</td>\n",
              "    </tr>\n",
              "    <tr>\n",
              "      <th>2017-07-26 00:00:12.388</th>\n",
              "      <td>0</td>\n",
              "      <td>H211370</td>\n",
              "      <td>30.48</td>\n",
              "    </tr>\n",
              "    <tr>\n",
              "      <th>2017-07-26 00:00:14.389</th>\n",
              "      <td>0</td>\n",
              "      <td>A282331</td>\n",
              "      <td>51.00</td>\n",
              "    </tr>\n",
              "    <tr>\n",
              "      <th>2017-07-26 00:00:16.837</th>\n",
              "      <td>0</td>\n",
              "      <td>H211410</td>\n",
              "      <td>16.74</td>\n",
              "    </tr>\n",
              "  </tbody>\n",
              "</table>\n",
              "</div>"
            ],
            "text/plain": [
              "                         UserID ProductID  Amount\n",
              "DateTime                                         \n",
              "2017-07-26 00:00:10.465       0   A293532   52.14\n",
              "2017-07-26 00:00:12.301       0   H209597   31.50\n",
              "2017-07-26 00:00:12.388       0   H211370   30.48\n",
              "2017-07-26 00:00:14.389       0   A282331   51.00\n",
              "2017-07-26 00:00:16.837       0   H211410   16.74"
            ]
          },
          "metadata": {
            "tags": []
          },
          "execution_count": 14
        }
      ]
    },
    {
      "cell_type": "code",
      "metadata": {
        "id": "ryRhHE0s7bTd",
        "colab_type": "code",
        "colab": {}
      },
      "source": [
        "hourly_amount = (final_df['Amount'].groupby(final_df['Amount'].index.hour).sum()).sort_values(ascending=False)"
      ],
      "execution_count": 0,
      "outputs": []
    },
    {
      "cell_type": "code",
      "metadata": {
        "id": "oSIOflS9CAN7",
        "colab_type": "code",
        "colab": {
          "base_uri": "https://localhost:8080/",
          "height": 136
        },
        "outputId": "a9abac9b-895c-4d83-eb0e-71c574e0ce73"
      },
      "source": [
        "hourly_amount.head()"
      ],
      "execution_count": 16,
      "outputs": [
        {
          "output_type": "execute_result",
          "data": {
            "text/plain": [
              "DateTime\n",
              "1     469330.16\n",
              "0     425831.32\n",
              "2     410735.92\n",
              "3     358285.60\n",
              "22    319672.62\n",
              "Name: Amount, dtype: float64"
            ]
          },
          "metadata": {
            "tags": []
          },
          "execution_count": 16
        }
      ]
    },
    {
      "cell_type": "code",
      "metadata": {
        "id": "r-e_o5UY9jLs",
        "colab_type": "code",
        "colab": {}
      },
      "source": [
        "hourly_count = (final_df['Amount'].groupby(final_df['Amount'].index.hour).count()).sort_values(ascending=False)"
      ],
      "execution_count": 0,
      "outputs": []
    },
    {
      "cell_type": "code",
      "metadata": {
        "id": "njVLiM3N-hcr",
        "colab_type": "code",
        "colab": {}
      },
      "source": [
        "import seaborn as sns\n",
        "import matplotlib.pyplot as plt\n",
        "\n",
        "sns.set(style=\"whitegrid\")"
      ],
      "execution_count": 0,
      "outputs": []
    },
    {
      "cell_type": "code",
      "metadata": {
        "id": "2UnR_1DgE8IZ",
        "colab_type": "code",
        "colab": {
          "base_uri": "https://localhost:8080/",
          "height": 481
        },
        "outputId": "b5fdeaa6-5aae-41e6-cdbf-41f6aa440804"
      },
      "source": [
        "dims = (14,7)\n",
        "fig, ax = plt.subplots(figsize=dims)\n",
        "ax = sns.barplot(x=hourly_amount.index, y=hourly_amount.values, ax=ax)\n",
        "ax.set_title('Amount spent each hour')\n",
        "ax.set_ylabel('Amount in Dollars')\n",
        "ax.set_xlabel('Hours from 0 to 23')"
      ],
      "execution_count": 24,
      "outputs": [
        {
          "output_type": "execute_result",
          "data": {
            "text/plain": [
              "Text(0.5, 0, 'Hours from 0 to 23')"
            ]
          },
          "metadata": {
            "tags": []
          },
          "execution_count": 24
        },
        {
          "output_type": "display_data",
          "data": {
            "image/png": "[encoded data removed]",
            "text/plain": [
              "<Figure size 1008x504 with 1 Axes>"
            ]
          },
          "metadata": {
            "tags": []
          }
        }
      ]
    },
    {
      "cell_type": "code",
      "metadata": {
        "id": "joTo5cevBDRZ",
        "colab_type": "code",
        "colab": {
          "base_uri": "https://localhost:8080/",
          "height": 481
        },
        "outputId": "7b84f24b-75ab-4492-948e-7be03fd0246a"
      },
      "source": [
        "dims = (14,7)\n",
        "fig1, ax = plt.subplots(figsize=dims)\n",
        "ax = sns.barplot(x=hourly_count.index, y=hourly_count.values, ax=ax)\n",
        "ax.set_title('Number of customers each hour')\n",
        "ax.set_ylabel('Count of customers')\n",
        "ax.set_xlabel('Hours from 0 to 23')"
      ],
      "execution_count": 25,
      "outputs": [
        {
          "output_type": "execute_result",
          "data": {
            "text/plain": [
              "Text(0.5, 0, 'Hours from 0 to 23')"
            ]
          },
          "metadata": {
            "tags": []
          },
          "execution_count": 25
        },
        {
          "output_type": "display_data",
          "data": {
            "image/png": "[encoded data removed]",
            "text/plain": [
              "<Figure size 1008x504 with 1 Axes>"
            ]
          },
          "metadata": {
            "tags": []
          }
        }
      ]
    },
    {
      "cell_type": "code",
      "metadata": {
        "id": "IJck9ZgZFXqi",
        "colab_type": "code",
        "colab": {}
      },
      "source": [
        "# The amount pertaining to particular product in each hour.\n",
        "product_sale = (final_df.groupby(final_df['ProductID'].index.hour).sum()).sort_values(by='Amount', ascending=False)"
      ],
      "execution_count": 0,
      "outputs": []
    },
    {
      "cell_type": "code",
      "metadata": {
        "id": "Yg4pQYx-JT9R",
        "colab_type": "code",
        "colab": {
          "base_uri": "https://localhost:8080/",
          "height": 235
        },
        "outputId": "b6b1c181-20cb-490a-95a7-4200dbba4830"
      },
      "source": [
        "product_sale.head()"
      ],
      "execution_count": 33,
      "outputs": [
        {
          "output_type": "execute_result",
          "data": {
            "text/html": [
              "<div>\n",
              "<style scoped>\n",
              "    .dataframe tbody tr th:only-of-type {\n",
              "        vertical-align: middle;\n",
              "    }\n",
              "\n",
              "    .dataframe tbody tr th {\n",
              "        vertical-align: top;\n",
              "    }\n",
              "\n",
              "    .dataframe thead th {\n",
              "        text-align: right;\n",
              "    }\n",
              "</style>\n",
              "<table border=\"1\" class=\"dataframe\">\n",
              "  <thead>\n",
              "    <tr style=\"text-align: right;\">\n",
              "      <th></th>\n",
              "      <th>UserID</th>\n",
              "      <th>Amount</th>\n",
              "    </tr>\n",
              "    <tr>\n",
              "      <th>DateTime</th>\n",
              "      <th></th>\n",
              "      <th></th>\n",
              "    </tr>\n",
              "  </thead>\n",
              "  <tbody>\n",
              "    <tr>\n",
              "      <th>1</th>\n",
              "      <td>3.005329e+22</td>\n",
              "      <td>469330.16</td>\n",
              "    </tr>\n",
              "    <tr>\n",
              "      <th>0</th>\n",
              "      <td>2.658994e+22</td>\n",
              "      <td>425831.32</td>\n",
              "    </tr>\n",
              "    <tr>\n",
              "      <th>2</th>\n",
              "      <td>2.434387e+22</td>\n",
              "      <td>410735.92</td>\n",
              "    </tr>\n",
              "    <tr>\n",
              "      <th>3</th>\n",
              "      <td>1.936342e+22</td>\n",
              "      <td>358285.60</td>\n",
              "    </tr>\n",
              "    <tr>\n",
              "      <th>22</th>\n",
              "      <td>1.212991e+22</td>\n",
              "      <td>319672.62</td>\n",
              "    </tr>\n",
              "  </tbody>\n",
              "</table>\n",
              "</div>"
            ],
            "text/plain": [
              "                UserID     Amount\n",
              "DateTime                         \n",
              "1         3.005329e+22  469330.16\n",
              "0         2.658994e+22  425831.32\n",
              "2         2.434387e+22  410735.92\n",
              "3         1.936342e+22  358285.60\n",
              "22        1.212991e+22  319672.62"
            ]
          },
          "metadata": {
            "tags": []
          },
          "execution_count": 33
        }
      ]
    },
    {
      "cell_type": "code",
      "metadata": {
        "id": "FRW5gRxSJVoY",
        "colab_type": "code",
        "colab": {}
      },
      "source": [
        ""
      ],
      "execution_count": 0,
      "outputs": []
    },
    {
      "cell_type": "code",
      "metadata": {
        "colab_type": "code",
        "outputId": "addad186-bff1-4690-ecf9-4aa399abc16d",
        "id": "eOa1PGliKYjN",
        "colab": {
          "base_uri": "https://localhost:8080/",
          "height": 481
        }
      },
      "source": [
        "dims = (14,7)\n",
        "fig1, ax = plt.subplots(figsize=dims)\n",
        "ax = sns.barplot(x=product_sale.index, y=product_sale.Amount, ax=ax)\n",
        "ax.set_title('The amount pertaining to particular product in each hour')\n",
        "ax.set_ylabel('Amount in Dollars')\n",
        "ax.set_xlabel('Hours from 0 to 23')"
      ],
      "execution_count": 34,
      "outputs": [
        {
          "output_type": "execute_result",
          "data": {
            "text/plain": [
              "Text(0.5, 0, 'Hours from 0 to 23')"
            ]
          },
          "metadata": {
            "tags": []
          },
          "execution_count": 34
        },
        {
          "output_type": "display_data",
          "data": {
            "image/png": "[encoded data removed]",
            "text/plain": [
              "<Figure size 1008x504 with 1 Axes>"
            ]
          },
          "metadata": {
            "tags": []
          }
        }
      ]
    },
    {
      "cell_type": "code",
      "metadata": {
        "id": "TzR5uDuAKpau",
        "colab_type": "code",
        "colab": {}
      },
      "source": [
        ""
      ],
      "execution_count": 0,
      "outputs": []
    }
  ]
}